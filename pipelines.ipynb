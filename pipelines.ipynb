{
 "cells": [
  {
   "cell_type": "markdown",
   "id": "d6201d13",
   "metadata": {},
   "source": [
    "### **Importing Libraries**"
   ]
  },
  {
   "cell_type": "code",
   "execution_count": 2,
   "id": "e12418c5",
   "metadata": {},
   "outputs": [],
   "source": [
    "import IPython\n",
    "import numpy as np\n",
    "from sklearn.model_selection import train_test_split\n",
    "from sklearn.base import ClassifierMixin\n",
    "from sklearn.svm import SVC\n",
    "from sklearn.datasets import load_digits\n",
    "\n",
    "from zenml import step, pipeline\n",
    "from typing_extensions import Annotated\n",
    "import pandas as pd\n",
    "from typing import Tuple\n"
   ]
  },
  {
   "cell_type": "markdown",
   "id": "f02550c3",
   "metadata": {},
   "source": [
    "### **1. Creating and training the model**"
   ]
  },
  {
   "cell_type": "markdown",
   "id": "c3b06b97",
   "metadata": {},
   "source": [
    "We will wain a **dummy** Scikit-learn SVC classifier to classify images of handwritten digits. We load the data, train a model on the training set, then test it on the test set."
   ]
  },
  {
   "cell_type": "code",
   "execution_count": 3,
   "id": "39acf814",
   "metadata": {},
   "outputs": [],
   "source": [
    "def train_test() -> None:\n",
    "    \"\"\"Train and test a SKLearn SVC classifier on the digits dataset.\"\"\"\n",
    "    digits = load_digits()\n",
    "    data = digits.images.reshape((len(digits.images), -1))\n",
    "    X_train, X_test, y_train, y_test = train_test_split(\n",
    "        data, digits.target, test_size=0.2, shuffle=False\n",
    "    )\n",
    "    \n",
    "    model: ClassifierMixin = SVC(gamma=\"scale\")\n",
    "    model.fit(X_train, y_train)\n",
    "    test_acc = model.score(X_test, y_test)\n",
    "    print(f\"Test accuracy: {test_acc:.3f}\")"
   ]
  },
  {
   "cell_type": "markdown",
   "id": "18ce0312",
   "metadata": {},
   "source": [
    "### **2. Turning experiments into ML pipelines (with ZenML)**"
   ]
  },
  {
   "cell_type": "markdown",
   "id": "f69534e1",
   "metadata": {},
   "source": [
    "ML workflows generally will be much more complex than the simple example above, involving steps like data preprocessing, feature engineering, model training, evaluation, and deployment.\n",
    "\n",
    "ML pipelines come into play allowing to define workflows in modular steps that can be easily reused, modified, and shared. ZenML is a framework that simplifies the creation, management, and deployment of ML pipelines."
   ]
  },
  {
   "cell_type": "markdown",
   "id": "8665c29f",
   "metadata": {},
   "source": [
    "![zenml_pipeline_overview.png](src/importer-svc-evaluator.png)"
   ]
  },
  {
   "cell_type": "code",
   "execution_count": 4,
   "id": "0e6e5e9d",
   "metadata": {},
   "outputs": [],
   "source": [
    "@step\n",
    "def importer() -> Tuple[\n",
    "    Annotated[np.ndarray, \"X_train\"],\n",
    "    Annotated[np.ndarray, \"X_test\"],\n",
    "    Annotated[np.ndarray, \"y_train\"],\n",
    "    Annotated[np.ndarray, \"y_test\"],\n",
    "]:\n",
    "    \"\"\"Load and split the digits dataset.\"\"\"\n",
    "    digits = load_digits()\n",
    "    data = digits.images.reshape((len(digits.images), -1))\n",
    "    X_train, X_test, y_train, y_test = train_test_split(\n",
    "        data, digits.target, test_size=0.2, shuffle=False\n",
    "    )\n",
    "    return X_train, X_test, y_train, y_test\n",
    "\n",
    "@step\n",
    "def svc_trainer(\n",
    "    X_train: np.ndarray,\n",
    "    y_train: np.ndarray,\n",
    ") -> ClassifierMixin:\n",
    "    \"\"\"Train an SVC classifier.\"\"\"\n",
    "    model: ClassifierMixin = SVC(gamma=\"scale\")\n",
    "    model.fit(X_train, y_train)\n",
    "    return model\n",
    "\n",
    "@step\n",
    "def evaluator(\n",
    "    model: ClassifierMixin,\n",
    "    X_test: np.ndarray,\n",
    "    y_test: np.ndarray,\n",
    ") -> float:\n",
    "    \"\"\"Evaluate the trained model.\"\"\"\n",
    "    test_acc = model.score(X_test, y_test)\n",
    "    print(f\"Test accuracy: {test_acc:.3f}\")\n",
    "    return test_acc\n",
    "\n"
   ]
  },
  {
   "cell_type": "markdown",
   "id": "18f49233",
   "metadata": {},
   "source": [
    "This same way, we can create a ZenML pipeline that encapsulates the entire workflow of loading data, training a model, and evaluating it. \n",
    "\n",
    "Each step in the pipeline can be defined as a separate function, making it easy to manage and modify."
   ]
  },
  {
   "cell_type": "code",
   "execution_count": 5,
   "id": "1559f959",
   "metadata": {},
   "outputs": [],
   "source": [
    "@pipeline\n",
    "def digits_pipeline():\n",
    "    \"\"\"Pipeline for training and evaluating an SVC on the digits dataset.\"\"\"\n",
    "    X_train, X_test, y_train, y_test = importer()\n",
    "    model = svc_trainer(X_train, y_train)\n",
    "    evaluator(model, X_test, y_test)"
   ]
  },
  {
   "cell_type": "markdown",
   "id": "5f8f611e",
   "metadata": {},
   "source": [
    "### **Running Pipelines**"
   ]
  },
  {
   "cell_type": "code",
   "execution_count": 6,
   "id": "62d69708",
   "metadata": {},
   "outputs": [
    {
     "name": "stdout",
     "output_type": "stream",
     "text": [
      "\u001b[37mInitiating a new run for the pipeline: \u001b[0m\u001b[38;5;105mdigits_pipeline\u001b[37m.\u001b[0m\n",
      "\u001b[37mUsing user: \u001b[0m\u001b[38;5;105mdefault\u001b[37m\u001b[0m\n",
      "\u001b[37mUsing stack: \u001b[0m\u001b[38;5;105mdefault\u001b[37m\u001b[0m\n",
      "\u001b[37m  artifact_store: \u001b[0m\u001b[38;5;105mdefault\u001b[37m\u001b[0m\n",
      "\u001b[37m  orchestrator: \u001b[0m\u001b[38;5;105mdefault\u001b[37m\u001b[0m\n",
      "\u001b[37mYou can visualize your pipeline runs in the \u001b[0m\u001b[38;5;105mZenML Dashboard\u001b[37m. In order to try it locally, please run \u001b[0m\u001b[38;5;105mzenml login --local\u001b[37m.\u001b[0m\n",
      "\u001b[37mUsing cached version of step \u001b[0m\u001b[38;5;105mimporter\u001b[37m.\u001b[0m\n",
      "\u001b[37mUsing cached version of step \u001b[0m\u001b[38;5;105msvc_trainer\u001b[37m.\u001b[0m\n",
      "\u001b[37mUsing cached version of step \u001b[0m\u001b[38;5;105mevaluator\u001b[37m.\u001b[0m\n",
      "\u001b[37mAll steps of the pipeline run were cached.\u001b[0m\n"
     ]
    }
   ],
   "source": [
    "digits_svc_pipeline = digits_pipeline()\n",
    "# digits_svc_pipeline.run()"
   ]
  },
  {
   "cell_type": "code",
   "execution_count": null,
   "id": "fe24aee5",
   "metadata": {},
   "outputs": [],
   "source": []
  }
 ],
 "metadata": {
  "kernelspec": {
   "display_name": "venv",
   "language": "python",
   "name": "python3"
  },
  "language_info": {
   "codemirror_mode": {
    "name": "ipython",
    "version": 3
   },
   "file_extension": ".py",
   "mimetype": "text/x-python",
   "name": "python",
   "nbconvert_exporter": "python",
   "pygments_lexer": "ipython3",
   "version": "3.12.0"
  }
 },
 "nbformat": 4,
 "nbformat_minor": 5
}
